{
  "nbformat": 4,
  "nbformat_minor": 0,
  "metadata": {
    "colab": {
      "name": "ML_RandomForest_atividade.ipynb",
      "provenance": [],
      "collapsed_sections": []
    },
    "kernelspec": {
      "name": "python3",
      "display_name": "Python 3"
    }
  },
  "cells": [
    {
      "cell_type": "code",
      "metadata": {
        "id": "vabyn3Qud1ky",
        "colab": {
          "resources": {
            "http://localhost:8080/nbextensions/google.colab/files.js": {
              "data": "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",
              "ok": true,
              "headers": [
                [
                  "content-type",
                  "application/javascript"
                ]
              ],
              "status": 200,
              "status_text": ""
            }
          },
          "base_uri": "https://localhost:8080/",
          "height": 109
        },
        "outputId": "5ee5dfd4-32ac-40b2-84bb-fecbb758f3b3"
      },
      "source": [
        "from google.colab import files\n",
        "files.upload()"
      ],
      "execution_count": 1,
      "outputs": [
        {
          "output_type": "display_data",
          "data": {
            "text/html": [
              "\n",
              "     <input type=\"file\" id=\"files-4d119144-01f9-4ae9-ba49-48af12b7bf57\" name=\"files[]\" multiple disabled\n",
              "        style=\"border:none\" />\n",
              "     <output id=\"result-4d119144-01f9-4ae9-ba49-48af12b7bf57\">\n",
              "      Upload widget is only available when the cell has been executed in the\n",
              "      current browser session. Please rerun this cell to enable.\n",
              "      </output>\n",
              "      <script src=\"/nbextensions/google.colab/files.js\"></script> "
            ],
            "text/plain": [
              "<IPython.core.display.HTML object>"
            ]
          },
          "metadata": {}
        },
        {
          "output_type": "stream",
          "name": "stdout",
          "text": [
            "Saving emprestimo_alto_baixo.csv to emprestimo_alto_baixo.csv\n"
          ]
        },
        {
          "output_type": "execute_result",
          "data": {
            "text/plain": [
              "{'emprestimo_alto_baixo.csv': b'renda_mensal,divida_total,idade,risco\\r\\n5000,20000,1,ALTO\\r\\n3500,21000,2,ALTO\\r\\n5500,6000,3,BAIXO\\r\\n3000,30000,1,ALTO\\r\\n1500,8000,2,ALTO\\r\\n800,6000,2,ALTO\\r\\n4500,3000,2,BAIXO\\r\\n8000,7500,2,BAIXO\\r\\n9000,12000,3,ALTO\\r\\n10500,20000,1,BAIXO\\r\\n21000,35000,3,ALTO\\r\\n8700,11000,1,BAIXO\\r\\n11500,30000,1,ALTO\\r\\n10400,15000,1,BAIXO\\r\\n2000,6000,2,ALTO\\r\\n3000,15000,2,ALTO\\r\\n5500,12000,3,ALTO\\r\\n3000,4000,1,ALTO\\r\\n12000,20000,2,BAIXO\\r\\n1100,15000,1,ALTO\\r\\n4500,3000,3,BAIXO\\r\\n12000,8000,2,BAIXO\\r\\n9000,14000,3,ALTO\\r\\n10500,8500,2,BAIXO\\r\\n8500,11000,3,ALTO\\r\\n8700,25000,3,ALTO\\r\\n11500,15000,3,ALTO\\r\\n10400,16000,2,BAIXO\\r\\n'}"
            ]
          },
          "metadata": {},
          "execution_count": 1
        }
      ]
    },
    {
      "cell_type": "code",
      "metadata": {
        "id": "HF4mFBMcmcRN"
      },
      "source": [
        "import pandas as pd\n",
        "emprestimo_medio = pd.read_csv('emprestimo_alto_baixo.csv', sep=',')"
      ],
      "execution_count": 2,
      "outputs": []
    },
    {
      "cell_type": "code",
      "metadata": {
        "id": "n843gd3fpDnP",
        "colab": {
          "base_uri": "https://localhost:8080/"
        },
        "outputId": "73f769d0-1cd6-4f23-8b43-aba6eacaa4a0"
      },
      "source": [
        "print(emprestimo_medio.dtypes)\n",
        "print(emprestimo_medio.head())\n",
        "print(emprestimo_medio.shape)"
      ],
      "execution_count": 3,
      "outputs": [
        {
          "output_type": "stream",
          "name": "stdout",
          "text": [
            "renda_mensal     int64\n",
            "divida_total     int64\n",
            "idade            int64\n",
            "risco           object\n",
            "dtype: object\n",
            "   renda_mensal  divida_total  idade  risco\n",
            "0          5000         20000      1   ALTO\n",
            "1          3500         21000      2   ALTO\n",
            "2          5500          6000      3  BAIXO\n",
            "3          3000         30000      1   ALTO\n",
            "4          1500          8000      2   ALTO\n",
            "(28, 4)\n"
          ]
        }
      ]
    },
    {
      "cell_type": "code",
      "metadata": {
        "id": "eWhGk2hrKkoA"
      },
      "source": [
        "from sklearn.ensemble import RandomForestClassifier\n",
        "from sklearn.metrics import classification_report\n",
        "from sklearn.model_selection import cross_val_predict\n",
        "from sklearn.metrics import confusion_matrix"
      ],
      "execution_count": 4,
      "outputs": []
    },
    {
      "cell_type": "code",
      "metadata": {
        "id": "JWpgWYJyxxCh",
        "colab": {
          "base_uri": "https://localhost:8080/"
        },
        "outputId": "5f67a180-cb02-40ad-dcf5-30c20476dd45"
      },
      "source": [
        "from sklearn.model_selection import train_test_split\n",
        "classificador_forest = RandomForestClassifier(n_estimators=100)\n",
        "numatributos = len(emprestimo_medio.columns) - 1\n",
        "atributos = list(emprestimo_medio.columns[0:numatributos]) \n",
        "\n",
        "X = emprestimo_medio[atributos]\n",
        "y = emprestimo_medio['risco'] \n",
        "\n",
        "# Vai definir 80% dos dados para treinamento e 20% para validação (parâmetro test_size)\n",
        "X_train, X_test, y_train, y_test = train_test_split(X, y, test_size=0.3)\n",
        "\n",
        "print(X_train)\n",
        "print(X_test)\n"
      ],
      "execution_count": 5,
      "outputs": [
        {
          "output_type": "stream",
          "name": "stdout",
          "text": [
            "    renda_mensal  divida_total  idade\n",
            "25          8700         25000      3\n",
            "15          3000         15000      2\n",
            "1           3500         21000      2\n",
            "19          1100         15000      1\n",
            "7           8000          7500      2\n",
            "18         12000         20000      2\n",
            "9          10500         20000      1\n",
            "22          9000         14000      3\n",
            "11          8700         11000      1\n",
            "2           5500          6000      3\n",
            "5            800          6000      2\n",
            "20          4500          3000      3\n",
            "26         11500         15000      3\n",
            "0           5000         20000      1\n",
            "12         11500         30000      1\n",
            "14          2000          6000      2\n",
            "10         21000         35000      3\n",
            "24          8500         11000      3\n",
            "13         10400         15000      1\n",
            "    renda_mensal  divida_total  idade\n",
            "21         12000          8000      2\n",
            "17          3000          4000      1\n",
            "3           3000         30000      1\n",
            "23         10500          8500      2\n",
            "8           9000         12000      3\n",
            "27         10400         16000      2\n",
            "4           1500          8000      2\n",
            "6           4500          3000      2\n",
            "16          5500         12000      3\n"
          ]
        }
      ]
    },
    {
      "cell_type": "code",
      "metadata": {
        "id": "X6VtEJYwQTZ5",
        "colab": {
          "base_uri": "https://localhost:8080/"
        },
        "outputId": "1e48af86-8d90-4abb-8f6e-726e6d22ae04"
      },
      "source": [
        "resultado = classificador_forest.fit(X_train, y_train)\n",
        "\n",
        "predicted = cross_val_predict(classificador_forest, X_train, y_train, cv=10)\n",
        "\n",
        "expected = y_train.values\n",
        "\n",
        "print(confusion_matrix(expected, predicted))\n",
        "\n",
        "\n",
        "print(\"Esperado:\\n\")\n",
        "print(expected)\n",
        "print(\"Previsto:\\n\")\n",
        "print(predicted)\n",
        "\n",
        "from sklearn.metrics import accuracy_score\n",
        "print(classification_report(expected, predicted))\n",
        "print(accuracy_score(expected, predicted))"
      ],
      "execution_count": 6,
      "outputs": [
        {
          "output_type": "stream",
          "name": "stderr",
          "text": [
            "/usr/local/lib/python3.7/dist-packages/sklearn/model_selection/_split.py:667: UserWarning: The least populated class in y has only 7 members, which is less than n_splits=10.\n",
            "  % (min_groups, self.n_splits)), UserWarning)\n"
          ]
        },
        {
          "output_type": "stream",
          "name": "stdout",
          "text": [
            "[[11  1]\n",
            " [ 2  5]]\n",
            "Esperado:\n",
            "\n",
            "['ALTO' 'ALTO' 'ALTO' 'ALTO' 'BAIXO' 'BAIXO' 'BAIXO' 'ALTO' 'BAIXO'\n",
            " 'BAIXO' 'ALTO' 'BAIXO' 'ALTO' 'ALTO' 'ALTO' 'ALTO' 'ALTO' 'ALTO' 'BAIXO']\n",
            "Previsto:\n",
            "\n",
            "['ALTO' 'ALTO' 'ALTO' 'ALTO' 'BAIXO' 'ALTO' 'BAIXO' 'ALTO' 'BAIXO' 'ALTO'\n",
            " 'ALTO' 'BAIXO' 'ALTO' 'ALTO' 'BAIXO' 'ALTO' 'ALTO' 'ALTO' 'BAIXO']\n",
            "              precision    recall  f1-score   support\n",
            "\n",
            "        ALTO       0.85      0.92      0.88        12\n",
            "       BAIXO       0.83      0.71      0.77         7\n",
            "\n",
            "    accuracy                           0.84        19\n",
            "   macro avg       0.84      0.82      0.82        19\n",
            "weighted avg       0.84      0.84      0.84        19\n",
            "\n",
            "0.8421052631578947\n"
          ]
        }
      ]
    },
    {
      "cell_type": "code",
      "metadata": {
        "id": "n4_gGu6i0JCh",
        "colab": {
          "base_uri": "https://localhost:8080/"
        },
        "outputId": "0d9a8f44-7f8f-4cb6-8f87-9401e45dd2f1"
      },
      "source": [
        "# Visualizar as features mais importantes\n",
        "print(classificador_forest.feature_importances_)\n",
        "for feature,importancia in zip(emprestimo_medio.columns,classificador_forest.feature_importances_):\n",
        "    print(\"{}:{}\".format(feature, importancia))\n"
      ],
      "execution_count": 7,
      "outputs": [
        {
          "output_type": "stream",
          "name": "stdout",
          "text": [
            "[0.47288079 0.36662497 0.16049424]\n",
            "renda_mensal:0.47288079004954114\n",
            "divida_total:0.3666249697273511\n",
            "idade:0.16049424022310757\n"
          ]
        }
      ]
    },
    {
      "cell_type": "code",
      "metadata": {
        "id": "nSgT9vpm23sY",
        "colab": {
          "base_uri": "https://localhost:8080/"
        },
        "outputId": "0970e5c8-4eb7-4613-a407-b07c12f2d829"
      },
      "source": [
        "\n",
        "predicted = classificador_forest.predict(X_test)\n",
        "expected = y_test.values\n",
        "\n",
        "print(confusion_matrix(expected, predicted))\n",
        "\n",
        "print(\"\\nEsperado:\\n\")\n",
        "print(expected)\n",
        "print(\"Previsto:\\n\")\n",
        "print(predicted)\n",
        "\n",
        "print(classification_report(expected, predicted))\n",
        "print(accuracy_score(expected, predicted))"
      ],
      "execution_count": 8,
      "outputs": [
        {
          "output_type": "stream",
          "name": "stdout",
          "text": [
            "[[5 0]\n",
            " [0 4]]\n",
            "\n",
            "Esperado:\n",
            "\n",
            "['BAIXO' 'ALTO' 'ALTO' 'BAIXO' 'ALTO' 'BAIXO' 'ALTO' 'BAIXO' 'ALTO']\n",
            "Previsto:\n",
            "\n",
            "['BAIXO' 'ALTO' 'ALTO' 'BAIXO' 'ALTO' 'BAIXO' 'ALTO' 'BAIXO' 'ALTO']\n",
            "              precision    recall  f1-score   support\n",
            "\n",
            "        ALTO       1.00      1.00      1.00         5\n",
            "       BAIXO       1.00      1.00      1.00         4\n",
            "\n",
            "    accuracy                           1.00         9\n",
            "   macro avg       1.00      1.00      1.00         9\n",
            "weighted avg       1.00      1.00      1.00         9\n",
            "\n",
            "1.0\n"
          ]
        }
      ]
    },
    {
      "cell_type": "markdown",
      "metadata": {
        "id": "iRB5fLoz1UHM"
      },
      "source": [
        "Aplicar os métodos estudados no conjunto de dados anexados a esta tarefa.\n",
        "Comparar os resultados (matriz confusão, recall, precision, acurácia) para os dois métodos.\n",
        "Entregar os notebooks usados com comentários sobre os resultados.\n",
        "\n",
        "R: Os dados abaixo nos mostra a matriz de confusão e suas respectivas médias de acertos. Sendo o 1.00 o principal dado, pois ele é a nossa precisão e nosso retorno dos dados de acertos, tanto para os altos e baixos. Sendo assim, 100%. \n",
        "\n",
        "[[5 0]\n",
        " [0 4]]\n",
        "\n",
        "Esperado:\n",
        "\n",
        "['BAIXO' 'ALTO' 'ALTO' 'BAIXO' 'ALTO' 'BAIXO' 'ALTO' 'BAIXO' 'ALTO']\n",
        "Previsto:\n",
        "\n",
        "['BAIXO' 'ALTO' 'ALTO' 'BAIXO' 'ALTO' 'BAIXO' 'ALTO' 'BAIXO' 'ALTO']\n",
        "              precision    recall  f1-score   support\n",
        "\n",
        "        ALTO       1.00      1.00      1.00         5\n",
        "       BAIXO       1.00      1.00      1.00         4\n",
        "\n",
        "    accuracy                           1.00         9\n",
        "   macro avg       1.00      1.00      1.00         9\n",
        "weighted avg       1.00      1.00      1.00         9\n",
        "\n",
        "1.0"
      ]
    }
  ]
}