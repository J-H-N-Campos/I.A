{
  "nbformat": 4,
  "nbformat_minor": 0,
  "metadata": {
    "colab": {
      "name": "Algoritimo genético (Mochila).ipynb",
      "provenance": [],
      "collapsed_sections": []
    },
    "kernelspec": {
      "name": "python3",
      "display_name": "Python 3"
    },
    "language_info": {
      "name": "python"
    }
  },
  "cells": [
    {
      "cell_type": "markdown",
      "metadata": {
        "id": "QogTKgvf_Cyr"
      },
      "source": [
        "https://medium.com/koderunners/genetic-algorithm-part-3-knapsack-problem-b59035ddd1d6"
      ]
    },
    {
      "cell_type": "code",
      "metadata": {
        "colab": {
          "base_uri": "https://localhost:8080/"
        },
        "id": "GMkSjOYv78iT",
        "outputId": "3d5b72b8-656c-4a70-ac1a-d40103c963a9"
      },
      "source": [
        "import numpy as np\n",
        "import pandas as pd\n",
        "import random as rd\n",
        "from random import randint\n",
        "import matplotlib.pyplot as plt\n",
        "\n",
        "item_number = np.arange(1,11)\n",
        "weight = np.random.randint(1, 15, size = 10)\n",
        "value = np.random.randint(10, 750, size = 10)\n",
        "knapsack_threshold = 35    #Maximum weight that the bag of thief can hold \n",
        "\n",
        "print('Lista do itens:')\n",
        "print('Item No.   Peso   Valor')\n",
        "for i in range(item_number.shape[0]):\n",
        "  print('{0}          {1}         {2}\\n'.format(item_number[i], weight[i], value[i]))"
      ],
      "execution_count": null,
      "outputs": [
        {
          "output_type": "stream",
          "name": "stdout",
          "text": [
            "Lista do itens:\n",
            "Item No.   Peso   Valor\n",
            "1          8         638\n",
            "\n",
            "2          14         571\n",
            "\n",
            "3          11         185\n",
            "\n",
            "4          4         432\n",
            "\n",
            "5          12         491\n",
            "\n",
            "6          14         560\n",
            "\n",
            "7          12         419\n",
            "\n",
            "8          14         472\n",
            "\n",
            "9          1         669\n",
            "\n",
            "10          1         625\n",
            "\n"
          ]
        }
      ]
    },
    {
      "cell_type": "code",
      "metadata": {
        "colab": {
          "base_uri": "https://localhost:8080/"
        },
        "id": "mFiir5TS-z-E",
        "outputId": "70072e3c-476a-4ae5-f996-a4bcb99ee6fc"
      },
      "source": [
        "solutions_per_pop = 8\n",
        "pop_size = (solutions_per_pop, item_number.shape[0])\n",
        "print('Tamanho da população = {}'.format(pop_size))\n",
        "initial_population = np.random.randint(2, size = pop_size)\n",
        "initial_population = initial_population.astype(int)\n",
        "num_generations = 50\n",
        "print('População inicial gerada: \\n{}'.format(initial_population))"
      ],
      "execution_count": null,
      "outputs": [
        {
          "output_type": "stream",
          "name": "stdout",
          "text": [
            "Tamanho da população = (8, 10)\n",
            "População inicial gerada: \n",
            "[[1 0 1 1 1 0 1 0 1 0]\n",
            " [1 0 1 0 0 1 0 1 0 0]\n",
            " [1 0 1 0 0 1 1 0 1 0]\n",
            " [0 0 0 1 1 1 0 1 0 1]\n",
            " [0 0 0 1 1 0 1 1 0 1]\n",
            " [1 0 1 1 1 0 0 1 0 0]\n",
            " [1 1 1 1 1 0 1 0 1 1]\n",
            " [1 1 0 0 0 1 1 0 0 0]]\n"
          ]
        }
      ]
    },
    {
      "cell_type": "code",
      "metadata": {
        "id": "F3lza3WtByw-"
      },
      "source": [
        "def cal_fitness(weight, value, population, threshold):\n",
        "    fitness = np.empty(population.shape[0])\n",
        "    for i in range(population.shape[0]):\n",
        "        S1 = np.sum(population[i] * value)\n",
        "        S2 = np.sum(population[i] * weight)\n",
        "        if S2 <= threshold:\n",
        "            fitness[i] = S1\n",
        "        else :\n",
        "            fitness[i] = 0 \n",
        "    return fitness.astype(int)"
      ],
      "execution_count": null,
      "outputs": []
    },
    {
      "cell_type": "code",
      "metadata": {
        "id": "lvJrTRXxCRhI"
      },
      "source": [
        "def selection(fitness, num_parents, population):\n",
        "    fitness = list(fitness)\n",
        "    parents = np.empty((num_parents, population.shape[1]))\n",
        "    for i in range(num_parents):\n",
        "        max_fitness_idx = np.where(fitness == np.max(fitness))\n",
        "        parents[i,:] = population[max_fitness_idx[0][0], :]\n",
        "        fitness[max_fitness_idx[0][0]] = -999999\n",
        "    return parents"
      ],
      "execution_count": null,
      "outputs": []
    },
    {
      "cell_type": "code",
      "metadata": {
        "id": "IMZaJC5TEspT"
      },
      "source": [
        "def crossover(parents, num_offsprings):\n",
        "    offsprings = np.empty((num_offsprings, parents.shape[1]))\n",
        "    crossover_point = int(parents.shape[1]/2)\n",
        "    crossover_rate = 0.8\n",
        "    i=0\n",
        "    while (parents.shape[0] < num_offsprings):\n",
        "        parent1_index = i%parents.shape[0]\n",
        "        parent2_index = (i+1)%parents.shape[0]\n",
        "        x = rd.random()\n",
        "        if x > crossover_rate:\n",
        "            continue\n",
        "        parent1_index = i%parents.shape[0]\n",
        "        parent2_index = (i+1)%parents.shape[0]\n",
        "        offsprings[i,0:crossover_point] = parents[parent1_index,0:crossover_point]\n",
        "        offsprings[i,crossover_point:] = parents[parent2_index,crossover_point:]\n",
        "        i=+1\n",
        "    return offsprings "
      ],
      "execution_count": null,
      "outputs": []
    },
    {
      "cell_type": "code",
      "metadata": {
        "id": "aWOBSZ6EE5Op"
      },
      "source": [
        "def mutation(offsprings):\n",
        "    mutants = np.empty((offsprings.shape))\n",
        "    mutation_rate = 0.2\n",
        "    for i in range(mutants.shape[0]):\n",
        "        random_value = rd.random()\n",
        "        mutants[i,:] = offsprings[i,:]\n",
        "        if random_value > mutation_rate:\n",
        "            continue\n",
        "        int_random_value = randint(0,offsprings.shape[1]-1)    \n",
        "        if mutants[i,int_random_value] == 0 :\n",
        "            mutants[i,int_random_value] = 1\n",
        "        else :\n",
        "            mutants[i,int_random_value] = 0\n",
        "    return mutants "
      ],
      "execution_count": null,
      "outputs": []
    },
    {
      "cell_type": "code",
      "metadata": {
        "id": "dEbwxHBLE7Zq"
      },
      "source": [
        "def optimize(weight, value, population, pop_size, num_generations, threshold):\n",
        "    parameters, fitness_history = [], []\n",
        "    num_parents = int(pop_size[0]/2)\n",
        "    num_offsprings = pop_size[0] - num_parents \n",
        "    for i in range(num_generations):\n",
        "        fitness = cal_fitness(weight, value, population, threshold)\n",
        "        fitness_history.append(fitness)\n",
        "        parents = selection(fitness, num_parents, population)\n",
        "        offsprings = crossover(parents, num_offsprings)\n",
        "        mutants = mutation(offsprings)\n",
        "        population[0:parents.shape[0], :] = parents\n",
        "        population[parents.shape[0]:, :] = mutants\n",
        "        \n",
        "    print('Last generation: \\n{}\\n'.format(population)) \n",
        "    fitness_last_gen = cal_fitness(weight, value, population, threshold)      \n",
        "    print('Fitness of the last generation: \\n{}\\n'.format(fitness_last_gen))\n",
        "    max_fitness = np.where(fitness_last_gen == np.max(fitness_last_gen))\n",
        "    parameters.append(population[max_fitness[0][0],:])\n",
        "    return parameters, fitness_history"
      ],
      "execution_count": null,
      "outputs": []
    },
    {
      "cell_type": "code",
      "metadata": {
        "colab": {
          "base_uri": "https://localhost:8080/"
        },
        "id": "yggWSTEJE_34",
        "outputId": "9298ae2f-2f0c-49f6-bafb-93fe95fa751e"
      },
      "source": [
        "parameters, fitness_history = optimize(weight, value, initial_population, pop_size, num_generations, knapsack_threshold)\n",
        "print('The optimized parameters for the given inputs are: \\n{}'.format(parameters))\n",
        "selected_items = item_number * parameters\n",
        "print('\\nSelected items that will maximize the knapsack without breaking it:')\n",
        "for i in range(selected_items.shape[1]):\n",
        "  if selected_items[0][i] != 0:\n",
        "    print('{}\\n'.format(selected_items[0][i]))"
      ],
      "execution_count": null,
      "outputs": [
        {
          "output_type": "stream",
          "name": "stdout",
          "text": [
            "Last generation: \n",
            "[[1 0 0 0 0 1 1 0 1 0]\n",
            " [1 0 0 0 0 1 1 0 1 0]\n",
            " [1 0 0 0 0 1 1 0 1 0]\n",
            " [1 0 0 0 0 1 1 0 1 0]\n",
            " [1 0 0 0 0 1 1 0 1 0]\n",
            " [1 0 0 0 0 1 1 0 1 0]\n",
            " [1 0 0 0 0 1 1 0 1 0]\n",
            " [1 0 0 0 0 1 1 0 1 0]]\n",
            "\n",
            "Fitness of the last generation: \n",
            "[2286 2286 2286 2286 2286 2286 2286 2286]\n",
            "\n",
            "The optimized parameters for the given inputs are: \n",
            "[array([1, 0, 0, 0, 0, 1, 1, 0, 1, 0])]\n",
            "\n",
            "Selected items that will maximize the knapsack without breaking it:\n",
            "1\n",
            "\n",
            "6\n",
            "\n",
            "7\n",
            "\n",
            "9\n",
            "\n"
          ]
        }
      ]
    },
    {
      "cell_type": "code",
      "metadata": {
        "colab": {
          "base_uri": "https://localhost:8080/",
          "height": 312
        },
        "id": "2pTMwWbeFRMf",
        "outputId": "14cb5ea1-ece5-435b-f337-3b188f33b9a3"
      },
      "source": [
        "fitness_history_mean = [np.mean(fitness) for fitness in fitness_history]\n",
        "fitness_history_max = [np.max(fitness) for fitness in fitness_history]\n",
        "plt.plot(list(range(num_generations)), fitness_history_mean, label = 'Mean Fitness')\n",
        "plt.plot(list(range(num_generations)), fitness_history_max, label = 'Max Fitness')\n",
        "plt.legend()\n",
        "plt.title('Fitness through the generations')\n",
        "plt.xlabel('Generations')\n",
        "plt.ylabel('Fitness')\n",
        "plt.show()\n",
        "print(np.asarray(fitness_history).shape)"
      ],
      "execution_count": null,
      "outputs": [
        {
          "output_type": "display_data",
          "data": {
            "image/png": "[encoded data removed]",
            "text/plain": [
              "<Figure size 432x288 with 1 Axes>"
            ]
          },
          "metadata": {
            "needs_background": "light"
          }
        },
        {
          "output_type": "stream",
          "name": "stdout",
          "text": [
            "(50, 8)\n"
          ]
        }
      ]
    },
    {
      "cell_type": "code",
      "metadata": {
        "id": "Opu51mtUXpEV"
      },
      "source": [
        "tamanhoMochila =  35  #@param"
      ],
      "execution_count": null,
      "outputs": []
    }
  ]
}