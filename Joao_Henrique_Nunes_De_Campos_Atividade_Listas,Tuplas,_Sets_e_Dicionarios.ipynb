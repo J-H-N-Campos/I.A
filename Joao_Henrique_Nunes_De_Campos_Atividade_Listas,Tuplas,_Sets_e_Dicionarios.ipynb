{
  "nbformat": 4,
  "nbformat_minor": 0,
  "metadata": {
    "colab": {
      "name": "Joao Henrique Nunes De Campos - Atividade Listas,Tuplas, Sets e Dicionarios.ipynb",
      "provenance": [],
      "collapsed_sections": []
    },
    "kernelspec": {
      "name": "python3",
      "display_name": "Python 3"
    }
  },
  "cells": [
    {
      "cell_type": "markdown",
      "metadata": {
        "id": "7IpNl3NdpqlH"
      },
      "source": [
        "## Atividade Listas,Tuplas, Sets e Dicionarios: \n",
        "- usando uma única célula de código no Google Colab para cada atividade"
      ]
    },
    {
      "cell_type": "markdown",
      "metadata": {
        "id": "8LzBXLyx3tHe"
      },
      "source": [
        "1 - [5 pontos] Dada a lista L= [5, 7, 2, 9, 4, 1, 3], crie um script Python que imprima as seguintes informações:\n",
        "a) tamanho da lista;\n",
        "b) maior valor da lista;\n",
        "c) menor valor da lista;\n",
        "d) soma de todos os elementos da lista;\n",
        "e) lista em ordem crescente;\n",
        "f) lista em ordem decrescente."
      ]
    },
    {
      "cell_type": "code",
      "metadata": {
        "id": "zsth3ami3wG_",
        "colab": {
          "base_uri": "https://localhost:8080/"
        },
        "outputId": "c3513e0e-2c7b-4bc7-cebf-82eac381c016"
      },
      "source": [
        "#Lista do Enunciado\n",
        "L = [5, 7, 2, 9, 4, 1, 3]\n",
        "\n",
        "#Questão A) Tamanho da Lista.\n",
        "print('Tamanho da Lista: ', len(L))\n",
        "\n",
        "#Questão B) Maior Valor da Lista\n",
        "print('Maior Valor da Lista: ', max(L))\n",
        "\n",
        "#Questão C) Menor Valor da Lista\n",
        "print('Menor Valor da Lista: ', min(L))\n",
        "\n",
        "#Questão D) Soma de Todos os Elementos do Valor da Lista\n",
        "print('Soma de Todos os Elementos do Valor da Lista: ', sum(L))\n",
        "\n",
        "#Questão E) Lista em Ordem Crescente\n",
        "print('Lista em Ordem Crescente: ', sorted(L, key = int, reverse = False))\n",
        "\n",
        "#Questão F) Lista em Ordem Descrescente\n",
        "print('Lista em Ordem Descrescente: ', sorted(L, key = int, reverse = True))"
      ],
      "execution_count": null,
      "outputs": [
        {
          "output_type": "stream",
          "text": [
            "Tamanho da Lista:  7\n",
            "Maior Valor da Lista:  9\n",
            "Menor Valor da Lista:  1\n",
            "Soma de Todos os Elementos do Valor da Lista:  31\n",
            "Lista em Ordem Crescente:  [1, 2, 3, 4, 5, 7, 9]\n",
            "Lista em Ordem Descrescente:  [9, 7, 5, 4, 3, 2, 1]\n"
          ],
          "name": "stdout"
        }
      ]
    },
    {
      "cell_type": "markdown",
      "metadata": {
        "id": "sTVAPV9G3wtT"
      },
      "source": [
        "2 - [5 pontos] Crie um script Python que conte quantas vezes cada nome está presente em uma lista [’nome1’, ’nome2’, ...] e armazene essa contagem em um dicionário {’nome1’: xvezes, ’nome2’: yvezes, ....}."
      ]
    },
    {
      "cell_type": "code",
      "metadata": {
        "id": "C4-JwUaP307z",
        "colab": {
          "base_uri": "https://localhost:8080/"
        },
        "outputId": "5533814a-9a1d-4fb9-90c2-4b337aa52f99"
      },
      "source": [
        "#Lista com os nomes armazenados na fila.\n",
        "lista = ['João', 'André', 'Ana', 'Camila', 'João']\n",
        "\n",
        "for i in lista:\n",
        " print(\"Quantidade de cada nome: \", lista.count(i))\n",
        "\n",
        "#Lista com os nomes armazenados no dicionario.\n",
        "dicionario = {lista[0]:lista.count(lista[0]), lista[1]:lista.count(lista[1]), lista[2]:lista.count(lista[2]),\n",
        "              lista[3]:lista.count(lista[3])}\n",
        "\n",
        "#Nomes armazenados no dicionario.\n",
        "print(dicionario)\n"
      ],
      "execution_count": null,
      "outputs": [
        {
          "output_type": "stream",
          "text": [
            "Quantidade de cada nome:  2\n",
            "Quantidade de cada nome:  1\n",
            "Quantidade de cada nome:  1\n",
            "Quantidade de cada nome:  1\n",
            "Quantidade de cada nome:  2\n",
            "{'João': 2, 'André': 1, 'Ana': 1, 'Camila': 1}\n"
          ],
          "name": "stdout"
        }
      ]
    }
  ]
}