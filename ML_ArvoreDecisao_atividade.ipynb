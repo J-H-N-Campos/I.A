{
  "nbformat": 4,
  "nbformat_minor": 0,
  "metadata": {
    "colab": {
      "name": "ML_ArvoreDecisao_atividade.ipynb",
      "provenance": [],
      "collapsed_sections": []
    },
    "kernelspec": {
      "name": "python3",
      "display_name": "Python 3"
    }
  },
  "cells": [
    {
      "cell_type": "code",
      "metadata": {
        "id": "vabyn3Qud1ky",
        "colab": {
          "resources": {
            "http://localhost:8080/nbextensions/google.colab/files.js": {
              "data": "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",
              "ok": true,
              "headers": [
                [
                  "content-type",
                  "application/javascript"
                ]
              ],
              "status": 200,
              "status_text": ""
            }
          },
          "base_uri": "https://localhost:8080/",
          "height": 109
        },
        "outputId": "82526509-ed3b-4ae6-badc-d78f5177dc19"
      },
      "source": [
        "from google.colab import files\n",
        "files.upload()"
      ],
      "execution_count": 3,
      "outputs": [
        {
          "output_type": "display_data",
          "data": {
            "text/html": [
              "\n",
              "     <input type=\"file\" id=\"files-7a21501f-f9bd-4480-b13c-aaee7aa774d7\" name=\"files[]\" multiple disabled\n",
              "        style=\"border:none\" />\n",
              "     <output id=\"result-7a21501f-f9bd-4480-b13c-aaee7aa774d7\">\n",
              "      Upload widget is only available when the cell has been executed in the\n",
              "      current browser session. Please rerun this cell to enable.\n",
              "      </output>\n",
              "      <script src=\"/nbextensions/google.colab/files.js\"></script> "
            ],
            "text/plain": [
              "<IPython.core.display.HTML object>"
            ]
          },
          "metadata": {}
        },
        {
          "output_type": "stream",
          "name": "stdout",
          "text": [
            "Saving emprestimo_alto_baixo.csv to emprestimo_alto_baixo.csv\n"
          ]
        },
        {
          "output_type": "execute_result",
          "data": {
            "text/plain": [
              "{'emprestimo_alto_baixo.csv': b'renda_mensal,divida_total,idade,risco\\r\\n5000,20000,1,ALTO\\r\\n3500,21000,2,ALTO\\r\\n5500,6000,3,BAIXO\\r\\n3000,30000,1,ALTO\\r\\n1500,8000,2,ALTO\\r\\n800,6000,2,ALTO\\r\\n4500,3000,2,BAIXO\\r\\n8000,7500,2,BAIXO\\r\\n9000,12000,3,ALTO\\r\\n10500,20000,1,BAIXO\\r\\n21000,35000,3,ALTO\\r\\n8700,11000,1,BAIXO\\r\\n11500,30000,1,ALTO\\r\\n10400,15000,1,BAIXO\\r\\n2000,6000,2,ALTO\\r\\n3000,15000,2,ALTO\\r\\n5500,12000,3,ALTO\\r\\n3000,4000,1,ALTO\\r\\n12000,20000,2,BAIXO\\r\\n1100,15000,1,ALTO\\r\\n4500,3000,3,BAIXO\\r\\n12000,8000,2,BAIXO\\r\\n9000,14000,3,ALTO\\r\\n10500,8500,2,BAIXO\\r\\n8500,11000,3,ALTO\\r\\n8700,25000,3,ALTO\\r\\n11500,15000,3,ALTO\\r\\n10400,16000,2,BAIXO\\r\\n'}"
            ]
          },
          "metadata": {},
          "execution_count": 3
        }
      ]
    },
    {
      "cell_type": "code",
      "metadata": {
        "id": "HF4mFBMcmcRN"
      },
      "source": [
        "import pandas as pd\n",
        "# A abertura pode ser a partir do drive\n",
        "# vendas_rest = pd.read_csv('/content/drive/My Drive/IA/Dados_mineracao/dados_class_n.csv', sep=',')\n",
        "# Ou pode ser aberto o arquivo que foi carregado para o buffer por upload\n",
        "emprestimo_medio = pd.read_csv('emprestimo_alto_baixo.csv', sep=',')"
      ],
      "execution_count": 4,
      "outputs": []
    },
    {
      "cell_type": "code",
      "metadata": {
        "id": "n843gd3fpDnP",
        "colab": {
          "base_uri": "https://localhost:8080/"
        },
        "outputId": "22180f59-0f86-4866-8ed8-7758b1af48f7"
      },
      "source": [
        "print(emprestimo_medio.dtypes)\n",
        "print(emprestimo_medio.head())\n",
        "print(emprestimo_medio.shape)"
      ],
      "execution_count": 3,
      "outputs": [
        {
          "output_type": "stream",
          "name": "stdout",
          "text": [
            "renda_mensal     int64\n",
            "divida_total     int64\n",
            "idade            int64\n",
            "risco           object\n",
            "dtype: object\n",
            "   renda_mensal  divida_total  idade  risco\n",
            "0          5000         20000      1   ALTO\n",
            "1          3500         21000      2   ALTO\n",
            "2          5500          6000      3  BAIXO\n",
            "3          3000         30000      1   ALTO\n",
            "4          1500          8000      2   ALTO\n",
            "(28, 4)\n"
          ]
        }
      ]
    },
    {
      "cell_type": "code",
      "metadata": {
        "id": "eWhGk2hrKkoA"
      },
      "source": [
        "from sklearn import tree\n",
        "from sklearn.metrics import classification_report\n",
        "from sklearn.model_selection import cross_val_predict\n",
        "from sklearn.metrics import confusion_matrix\n"
      ],
      "execution_count": 5,
      "outputs": []
    },
    {
      "cell_type": "code",
      "metadata": {
        "id": "JWpgWYJyxxCh",
        "colab": {
          "base_uri": "https://localhost:8080/"
        },
        "outputId": "581e94dc-cffe-4433-85c0-56793d4be352"
      },
      "source": [
        "classificador_tree = tree.DecisionTreeClassifier(random_state=1, max_depth=10 )\n",
        "numatributos = len(emprestimo_medio.columns) - 1\n",
        "atributos = list(emprestimo_medio.columns[0:numatributos]) \n",
        "\n",
        "X = emprestimo_medio[atributos]\n",
        "y = emprestimo_medio['risco']       \n",
        "\n",
        "print(list(emprestimo_medio.columns[0:numatributos]))\n",
        "print(X)\n",
        "print(y)\n"
      ],
      "execution_count": 6,
      "outputs": [
        {
          "output_type": "stream",
          "name": "stdout",
          "text": [
            "['renda_mensal', 'divida_total', 'idade']\n",
            "    renda_mensal  divida_total  idade\n",
            "0           5000         20000      1\n",
            "1           3500         21000      2\n",
            "2           5500          6000      3\n",
            "3           3000         30000      1\n",
            "4           1500          8000      2\n",
            "5            800          6000      2\n",
            "6           4500          3000      2\n",
            "7           8000          7500      2\n",
            "8           9000         12000      3\n",
            "9          10500         20000      1\n",
            "10         21000         35000      3\n",
            "11          8700         11000      1\n",
            "12         11500         30000      1\n",
            "13         10400         15000      1\n",
            "14          2000          6000      2\n",
            "15          3000         15000      2\n",
            "16          5500         12000      3\n",
            "17          3000          4000      1\n",
            "18         12000         20000      2\n",
            "19          1100         15000      1\n",
            "20          4500          3000      3\n",
            "21         12000          8000      2\n",
            "22          9000         14000      3\n",
            "23         10500          8500      2\n",
            "24          8500         11000      3\n",
            "25          8700         25000      3\n",
            "26         11500         15000      3\n",
            "27         10400         16000      2\n",
            "0      ALTO\n",
            "1      ALTO\n",
            "2     BAIXO\n",
            "3      ALTO\n",
            "4      ALTO\n",
            "5      ALTO\n",
            "6     BAIXO\n",
            "7     BAIXO\n",
            "8      ALTO\n",
            "9     BAIXO\n",
            "10     ALTO\n",
            "11    BAIXO\n",
            "12     ALTO\n",
            "13    BAIXO\n",
            "14     ALTO\n",
            "15     ALTO\n",
            "16     ALTO\n",
            "17     ALTO\n",
            "18    BAIXO\n",
            "19     ALTO\n",
            "20    BAIXO\n",
            "21    BAIXO\n",
            "22     ALTO\n",
            "23    BAIXO\n",
            "24     ALTO\n",
            "25     ALTO\n",
            "26     ALTO\n",
            "27    BAIXO\n",
            "Name: risco, dtype: object\n"
          ]
        }
      ]
    },
    {
      "cell_type": "code",
      "metadata": {
        "id": "X6VtEJYwQTZ5"
      },
      "source": [
        "resultado = classificador_tree.fit(X, y)\n",
        "#predicted = classificador_tree.predict(X)\n",
        "predicted = cross_val_predict(classificador_tree, X, y, cv=10)"
      ],
      "execution_count": 7,
      "outputs": []
    },
    {
      "cell_type": "code",
      "metadata": {
        "id": "TaSrybQaaajT",
        "colab": {
          "base_uri": "https://localhost:8080/"
        },
        "outputId": "d688a221-f846-426e-f562-824defb9c6d2"
      },
      "source": [
        "expected = y.values\n",
        "print('Matriz de confusão')\n",
        "print(confusion_matrix(expected, predicted))\n",
        "\n",
        "print(\"\\nEsperado:\")\n",
        "print(expected)\n",
        "print(\"\\n Previsto:\")\n",
        "print(predicted)\n",
        "\n",
        "for esperado,previsto in zip(expected, predicted):\n",
        "    print(\"{}->{}\".format(esperado, previsto))\n",
        "\n",
        "from sklearn.metrics import accuracy_score\n",
        "print('\\n Métricas')\n",
        "print(classification_report(expected, predicted))\n",
        "print('\\n Acurácia')\n",
        "print(accuracy_score(expected, predicted))"
      ],
      "execution_count": 8,
      "outputs": [
        {
          "output_type": "stream",
          "name": "stdout",
          "text": [
            "Matriz de confusão\n",
            "[[15  2]\n",
            " [ 2  9]]\n",
            "\n",
            "Esperado:\n",
            "['ALTO' 'ALTO' 'BAIXO' 'ALTO' 'ALTO' 'ALTO' 'BAIXO' 'BAIXO' 'ALTO' 'BAIXO'\n",
            " 'ALTO' 'BAIXO' 'ALTO' 'BAIXO' 'ALTO' 'ALTO' 'ALTO' 'ALTO' 'BAIXO' 'ALTO'\n",
            " 'BAIXO' 'BAIXO' 'ALTO' 'BAIXO' 'ALTO' 'ALTO' 'ALTO' 'BAIXO']\n",
            "\n",
            " Previsto:\n",
            "['BAIXO' 'ALTO' 'BAIXO' 'ALTO' 'ALTO' 'ALTO' 'ALTO' 'BAIXO' 'ALTO' 'BAIXO'\n",
            " 'ALTO' 'BAIXO' 'BAIXO' 'BAIXO' 'ALTO' 'ALTO' 'ALTO' 'ALTO' 'ALTO' 'ALTO'\n",
            " 'BAIXO' 'BAIXO' 'ALTO' 'BAIXO' 'ALTO' 'ALTO' 'ALTO' 'BAIXO']\n",
            "ALTO->BAIXO\n",
            "ALTO->ALTO\n",
            "BAIXO->BAIXO\n",
            "ALTO->ALTO\n",
            "ALTO->ALTO\n",
            "ALTO->ALTO\n",
            "BAIXO->ALTO\n",
            "BAIXO->BAIXO\n",
            "ALTO->ALTO\n",
            "BAIXO->BAIXO\n",
            "ALTO->ALTO\n",
            "BAIXO->BAIXO\n",
            "ALTO->BAIXO\n",
            "BAIXO->BAIXO\n",
            "ALTO->ALTO\n",
            "ALTO->ALTO\n",
            "ALTO->ALTO\n",
            "ALTO->ALTO\n",
            "BAIXO->ALTO\n",
            "ALTO->ALTO\n",
            "BAIXO->BAIXO\n",
            "BAIXO->BAIXO\n",
            "ALTO->ALTO\n",
            "BAIXO->BAIXO\n",
            "ALTO->ALTO\n",
            "ALTO->ALTO\n",
            "ALTO->ALTO\n",
            "BAIXO->BAIXO\n",
            "\n",
            " Métricas\n",
            "              precision    recall  f1-score   support\n",
            "\n",
            "        ALTO       0.88      0.88      0.88        17\n",
            "       BAIXO       0.82      0.82      0.82        11\n",
            "\n",
            "    accuracy                           0.86        28\n",
            "   macro avg       0.85      0.85      0.85        28\n",
            "weighted avg       0.86      0.86      0.86        28\n",
            "\n",
            "\n",
            " Acurácia\n",
            "0.8571428571428571\n"
          ]
        }
      ]
    },
    {
      "cell_type": "code",
      "metadata": {
        "id": "1hnIFK1cV0Yn",
        "colab": {
          "base_uri": "https://localhost:8080/"
        },
        "outputId": "859cb422-633e-4e67-a415-a2a99f5720e3"
      },
      "source": [
        "# Visualizar as features mais importantes\n",
        "print(classificador_tree.feature_importances_)\n",
        "for feature,importancia in zip(emprestimo_medio.columns,classificador_tree.feature_importances_):\n",
        "    print(\"{}:{}\".format(feature, importancia))"
      ],
      "execution_count": 8,
      "outputs": [
        {
          "output_type": "stream",
          "name": "stdout",
          "text": [
            "[0.31871658 0.34317507 0.33810836]\n",
            "renda_mensal:0.318716577540107\n",
            "divida_total:0.34317506616971855\n",
            "idade:0.3381083562901745\n"
          ]
        }
      ]
    },
    {
      "cell_type": "code",
      "metadata": {
        "id": "n4_gGu6i0JCh",
        "colab": {
          "base_uri": "https://localhost:8080/",
          "height": 933
        },
        "outputId": "89fe6fc5-bc10-498e-edfb-667da1fee468"
      },
      "source": [
        "#tree.plot_tree(classificador_tree, feature_names=True)\n",
        "print(y.name)\n",
        "import graphviz \n",
        "dot_data = tree.export_graphviz(classificador_tree, out_file=None, feature_names=atributos, class_names=['ALTO', 'BAIXO'],filled=True, rounded=True, special_characters=True)  \n",
        "#tree.export_graphviz()\n",
        "graph = graphviz.Source(dot_data)  \n",
        "graph "
      ],
      "execution_count": 9,
      "outputs": [
        {
          "output_type": "stream",
          "name": "stdout",
          "text": [
            "risco\n"
          ]
        },
        {
          "output_type": "execute_result",
          "data": {
            "text/plain": [
              "<graphviz.files.Source at 0x7fb95a6a2b50>"
            ],
            "image/svg+xml": "<?xml version=\"1.0\" encoding=\"UTF-8\" standalone=\"no\"?>\n<!DOCTYPE svg PUBLIC \"-//W3C//DTD SVG 1.1//EN\"\n \"http://www.w3.org/Graphics/SVG/1.1/DTD/svg11.dtd\">\n<!-- Generated by graphviz version 2.40.1 (20161225.0304)\n -->\n<!-- Title: Tree Pages: 1 -->\n<svg width=\"663pt\" height=\"671pt\"\n viewBox=\"0.00 0.00 663.00 671.00\" xmlns=\"http://www.w3.org/2000/svg\" xmlns:xlink=\"http://www.w3.org/1999/xlink\">\n<g id=\"graph0\" class=\"graph\" transform=\"scale(1 1) rotate(0) translate(4 667)\">\n<title>Tree</title>\n<polygon fill=\"#ffffff\" stroke=\"transparent\" points=\"-4,4 -4,-667 659,-667 659,4 -4,4\"/>\n<!-- 0 -->\n<g id=\"node1\" class=\"node\">\n<title>0</title>\n<path fill=\"#f6d3b9\" stroke=\"#000000\" d=\"M414.5,-663C414.5,-663 268.5,-663 268.5,-663 262.5,-663 256.5,-657 256.5,-651 256.5,-651 256.5,-592 256.5,-592 256.5,-586 262.5,-580 268.5,-580 268.5,-580 414.5,-580 414.5,-580 420.5,-580 426.5,-586 426.5,-592 426.5,-592 426.5,-651 426.5,-651 426.5,-657 420.5,-663 414.5,-663\"/>\n<text text-anchor=\"start\" x=\"264.5\" y=\"-647.8\" font-family=\"Helvetica,sans-Serif\" font-size=\"14.00\" fill=\"#000000\">renda_mensal ≤ 4000.0</text>\n<text text-anchor=\"start\" x=\"303.5\" y=\"-632.8\" font-family=\"Helvetica,sans-Serif\" font-size=\"14.00\" fill=\"#000000\">gini = 0.477</text>\n<text text-anchor=\"start\" x=\"297.5\" y=\"-617.8\" font-family=\"Helvetica,sans-Serif\" font-size=\"14.00\" fill=\"#000000\">samples = 28</text>\n<text text-anchor=\"start\" x=\"291.5\" y=\"-602.8\" font-family=\"Helvetica,sans-Serif\" font-size=\"14.00\" fill=\"#000000\">value = [17, 11]</text>\n<text text-anchor=\"start\" x=\"298\" y=\"-587.8\" font-family=\"Helvetica,sans-Serif\" font-size=\"14.00\" fill=\"#000000\">class = ALTO</text>\n</g>\n<!-- 1 -->\n<g id=\"node2\" class=\"node\">\n<title>1</title>\n<path fill=\"#e58139\" stroke=\"#000000\" d=\"M319,-536.5C319,-536.5 240,-536.5 240,-536.5 234,-536.5 228,-530.5 228,-524.5 228,-524.5 228,-480.5 228,-480.5 228,-474.5 234,-468.5 240,-468.5 240,-468.5 319,-468.5 319,-468.5 325,-468.5 331,-474.5 331,-480.5 331,-480.5 331,-524.5 331,-524.5 331,-530.5 325,-536.5 319,-536.5\"/>\n<text text-anchor=\"start\" x=\"250\" y=\"-521.3\" font-family=\"Helvetica,sans-Serif\" font-size=\"14.00\" fill=\"#000000\">gini = 0.0</text>\n<text text-anchor=\"start\" x=\"240\" y=\"-506.3\" font-family=\"Helvetica,sans-Serif\" font-size=\"14.00\" fill=\"#000000\">samples = 8</text>\n<text text-anchor=\"start\" x=\"238\" y=\"-491.3\" font-family=\"Helvetica,sans-Serif\" font-size=\"14.00\" fill=\"#000000\">value = [8, 0]</text>\n<text text-anchor=\"start\" x=\"236\" y=\"-476.3\" font-family=\"Helvetica,sans-Serif\" font-size=\"14.00\" fill=\"#000000\">class = ALTO</text>\n</g>\n<!-- 0&#45;&gt;1 -->\n<g id=\"edge1\" class=\"edge\">\n<title>0&#45;&gt;1</title>\n<path fill=\"none\" stroke=\"#000000\" d=\"M319.8154,-579.8796C314.0864,-568.8835 307.8894,-556.9893 302.1126,-545.9015\"/>\n<polygon fill=\"#000000\" stroke=\"#000000\" points=\"305.103,-544.0662 297.3784,-536.8149 298.895,-547.3007 305.103,-544.0662\"/>\n<text text-anchor=\"middle\" x=\"289.869\" y=\"-556.9605\" font-family=\"Helvetica,sans-Serif\" font-size=\"14.00\" fill=\"#000000\">True</text>\n</g>\n<!-- 2 -->\n<g id=\"node3\" class=\"node\">\n<title>2</title>\n<path fill=\"#dbedfa\" stroke=\"#000000\" d=\"M447.5,-544C447.5,-544 361.5,-544 361.5,-544 355.5,-544 349.5,-538 349.5,-532 349.5,-532 349.5,-473 349.5,-473 349.5,-467 355.5,-461 361.5,-461 361.5,-461 447.5,-461 447.5,-461 453.5,-461 459.5,-467 459.5,-473 459.5,-473 459.5,-532 459.5,-532 459.5,-538 453.5,-544 447.5,-544\"/>\n<text text-anchor=\"start\" x=\"368.5\" y=\"-528.8\" font-family=\"Helvetica,sans-Serif\" font-size=\"14.00\" fill=\"#000000\">idade ≤ 2.5</text>\n<text text-anchor=\"start\" x=\"366.5\" y=\"-513.8\" font-family=\"Helvetica,sans-Serif\" font-size=\"14.00\" fill=\"#000000\">gini = 0.495</text>\n<text text-anchor=\"start\" x=\"360.5\" y=\"-498.8\" font-family=\"Helvetica,sans-Serif\" font-size=\"14.00\" fill=\"#000000\">samples = 20</text>\n<text text-anchor=\"start\" x=\"359\" y=\"-483.8\" font-family=\"Helvetica,sans-Serif\" font-size=\"14.00\" fill=\"#000000\">value = [9, 11]</text>\n<text text-anchor=\"start\" x=\"357.5\" y=\"-468.8\" font-family=\"Helvetica,sans-Serif\" font-size=\"14.00\" fill=\"#000000\">class = BAIXO</text>\n</g>\n<!-- 0&#45;&gt;2 -->\n<g id=\"edge2\" class=\"edge\">\n<title>0&#45;&gt;2</title>\n<path fill=\"none\" stroke=\"#000000\" d=\"M363.5343,-579.8796C368.064,-571.3236 372.8815,-562.2238 377.5618,-553.3833\"/>\n<polygon fill=\"#000000\" stroke=\"#000000\" points=\"380.7859,-554.7736 382.3716,-544.2981 374.5994,-551.4983 380.7859,-554.7736\"/>\n<text text-anchor=\"middle\" x=\"389.7238\" y=\"-564.4925\" font-family=\"Helvetica,sans-Serif\" font-size=\"14.00\" fill=\"#000000\">False</text>\n</g>\n<!-- 3 -->\n<g id=\"node4\" class=\"node\">\n<title>3</title>\n<path fill=\"#65b3eb\" stroke=\"#000000\" d=\"M385.5,-425C385.5,-425 251.5,-425 251.5,-425 245.5,-425 239.5,-419 239.5,-413 239.5,-413 239.5,-354 239.5,-354 239.5,-348 245.5,-342 251.5,-342 251.5,-342 385.5,-342 385.5,-342 391.5,-342 397.5,-348 397.5,-354 397.5,-354 397.5,-413 397.5,-413 397.5,-419 391.5,-425 385.5,-425\"/>\n<text text-anchor=\"start\" x=\"247.5\" y=\"-409.8\" font-family=\"Helvetica,sans-Serif\" font-size=\"14.00\" fill=\"#000000\">divida_total ≤ 25000.0</text>\n<text text-anchor=\"start\" x=\"280.5\" y=\"-394.8\" font-family=\"Helvetica,sans-Serif\" font-size=\"14.00\" fill=\"#000000\">gini = 0.298</text>\n<text text-anchor=\"start\" x=\"274.5\" y=\"-379.8\" font-family=\"Helvetica,sans-Serif\" font-size=\"14.00\" fill=\"#000000\">samples = 11</text>\n<text text-anchor=\"start\" x=\"277\" y=\"-364.8\" font-family=\"Helvetica,sans-Serif\" font-size=\"14.00\" fill=\"#000000\">value = [2, 9]</text>\n<text text-anchor=\"start\" x=\"271.5\" y=\"-349.8\" font-family=\"Helvetica,sans-Serif\" font-size=\"14.00\" fill=\"#000000\">class = BAIXO</text>\n</g>\n<!-- 2&#45;&gt;3 -->\n<g id=\"edge3\" class=\"edge\">\n<title>2&#45;&gt;3</title>\n<path fill=\"none\" stroke=\"#000000\" d=\"M374.4214,-460.8796C368.0428,-452.0534 361.246,-442.6485 354.6681,-433.5466\"/>\n<polygon fill=\"#000000\" stroke=\"#000000\" points=\"357.4012,-431.353 348.707,-425.2981 351.7277,-435.4532 357.4012,-431.353\"/>\n</g>\n<!-- 10 -->\n<g id=\"node11\" class=\"node\">\n<title>10</title>\n<path fill=\"#eca572\" stroke=\"#000000\" d=\"M553.5,-425C553.5,-425 427.5,-425 427.5,-425 421.5,-425 415.5,-419 415.5,-413 415.5,-413 415.5,-354 415.5,-354 415.5,-348 421.5,-342 427.5,-342 427.5,-342 553.5,-342 553.5,-342 559.5,-342 565.5,-348 565.5,-354 565.5,-354 565.5,-413 565.5,-413 565.5,-419 559.5,-425 553.5,-425\"/>\n<text text-anchor=\"start\" x=\"423.5\" y=\"-409.8\" font-family=\"Helvetica,sans-Serif\" font-size=\"14.00\" fill=\"#000000\">divida_total ≤ 8500.0</text>\n<text text-anchor=\"start\" x=\"452.5\" y=\"-394.8\" font-family=\"Helvetica,sans-Serif\" font-size=\"14.00\" fill=\"#000000\">gini = 0.346</text>\n<text text-anchor=\"start\" x=\"451\" y=\"-379.8\" font-family=\"Helvetica,sans-Serif\" font-size=\"14.00\" fill=\"#000000\">samples = 9</text>\n<text text-anchor=\"start\" x=\"449\" y=\"-364.8\" font-family=\"Helvetica,sans-Serif\" font-size=\"14.00\" fill=\"#000000\">value = [7, 2]</text>\n<text text-anchor=\"start\" x=\"447\" y=\"-349.8\" font-family=\"Helvetica,sans-Serif\" font-size=\"14.00\" fill=\"#000000\">class = ALTO</text>\n</g>\n<!-- 2&#45;&gt;10 -->\n<g id=\"edge10\" class=\"edge\">\n<title>2&#45;&gt;10</title>\n<path fill=\"none\" stroke=\"#000000\" d=\"M434.5786,-460.8796C440.9572,-452.0534 447.754,-442.6485 454.3319,-433.5466\"/>\n<polygon fill=\"#000000\" stroke=\"#000000\" points=\"457.2723,-435.4532 460.293,-425.2981 451.5988,-431.353 457.2723,-435.4532\"/>\n</g>\n<!-- 4 -->\n<g id=\"node5\" class=\"node\">\n<title>4</title>\n<path fill=\"#4fa8e8\" stroke=\"#000000\" d=\"M248.5,-306C248.5,-306 102.5,-306 102.5,-306 96.5,-306 90.5,-300 90.5,-294 90.5,-294 90.5,-235 90.5,-235 90.5,-229 96.5,-223 102.5,-223 102.5,-223 248.5,-223 248.5,-223 254.5,-223 260.5,-229 260.5,-235 260.5,-235 260.5,-294 260.5,-294 260.5,-300 254.5,-306 248.5,-306\"/>\n<text text-anchor=\"start\" x=\"98.5\" y=\"-290.8\" font-family=\"Helvetica,sans-Serif\" font-size=\"14.00\" fill=\"#000000\">renda_mensal ≤ 6500.0</text>\n<text text-anchor=\"start\" x=\"142\" y=\"-275.8\" font-family=\"Helvetica,sans-Serif\" font-size=\"14.00\" fill=\"#000000\">gini = 0.18</text>\n<text text-anchor=\"start\" x=\"131.5\" y=\"-260.8\" font-family=\"Helvetica,sans-Serif\" font-size=\"14.00\" fill=\"#000000\">samples = 10</text>\n<text text-anchor=\"start\" x=\"134\" y=\"-245.8\" font-family=\"Helvetica,sans-Serif\" font-size=\"14.00\" fill=\"#000000\">value = [1, 9]</text>\n<text text-anchor=\"start\" x=\"128.5\" y=\"-230.8\" font-family=\"Helvetica,sans-Serif\" font-size=\"14.00\" fill=\"#000000\">class = BAIXO</text>\n</g>\n<!-- 3&#45;&gt;4 -->\n<g id=\"edge4\" class=\"edge\">\n<title>3&#45;&gt;4</title>\n<path fill=\"none\" stroke=\"#000000\" d=\"M268.4855,-341.8796C257.2299,-332.513 245.1912,-322.4948 233.6354,-312.8784\"/>\n<polygon fill=\"#000000\" stroke=\"#000000\" points=\"235.6534,-310.0043 225.7279,-306.2981 231.1758,-315.385 235.6534,-310.0043\"/>\n</g>\n<!-- 9 -->\n<g id=\"node10\" class=\"node\">\n<title>9</title>\n<path fill=\"#e58139\" stroke=\"#000000\" d=\"M370,-298.5C370,-298.5 291,-298.5 291,-298.5 285,-298.5 279,-292.5 279,-286.5 279,-286.5 279,-242.5 279,-242.5 279,-236.5 285,-230.5 291,-230.5 291,-230.5 370,-230.5 370,-230.5 376,-230.5 382,-236.5 382,-242.5 382,-242.5 382,-286.5 382,-286.5 382,-292.5 376,-298.5 370,-298.5\"/>\n<text text-anchor=\"start\" x=\"301\" y=\"-283.3\" font-family=\"Helvetica,sans-Serif\" font-size=\"14.00\" fill=\"#000000\">gini = 0.0</text>\n<text text-anchor=\"start\" x=\"291\" y=\"-268.3\" font-family=\"Helvetica,sans-Serif\" font-size=\"14.00\" fill=\"#000000\">samples = 1</text>\n<text text-anchor=\"start\" x=\"289\" y=\"-253.3\" font-family=\"Helvetica,sans-Serif\" font-size=\"14.00\" fill=\"#000000\">value = [1, 0]</text>\n<text text-anchor=\"start\" x=\"287\" y=\"-238.3\" font-family=\"Helvetica,sans-Serif\" font-size=\"14.00\" fill=\"#000000\">class = ALTO</text>\n</g>\n<!-- 3&#45;&gt;9 -->\n<g id=\"edge9\" class=\"edge\">\n<title>3&#45;&gt;9</title>\n<path fill=\"none\" stroke=\"#000000\" d=\"M322.697,-341.8796C323.7726,-331.2134 324.9334,-319.7021 326.0225,-308.9015\"/>\n<polygon fill=\"#000000\" stroke=\"#000000\" points=\"329.5186,-309.1157 327.0397,-298.8149 322.5539,-308.4133 329.5186,-309.1157\"/>\n</g>\n<!-- 5 -->\n<g id=\"node6\" class=\"node\">\n<title>5</title>\n<path fill=\"#ffffff\" stroke=\"#000000\" d=\"M153,-187C153,-187 74,-187 74,-187 68,-187 62,-181 62,-175 62,-175 62,-116 62,-116 62,-110 68,-104 74,-104 74,-104 153,-104 153,-104 159,-104 165,-110 165,-116 165,-116 165,-175 165,-175 165,-181 159,-187 153,-187\"/>\n<text text-anchor=\"start\" x=\"77.5\" y=\"-171.8\" font-family=\"Helvetica,sans-Serif\" font-size=\"14.00\" fill=\"#000000\">idade ≤ 1.5</text>\n<text text-anchor=\"start\" x=\"84\" y=\"-156.8\" font-family=\"Helvetica,sans-Serif\" font-size=\"14.00\" fill=\"#000000\">gini = 0.5</text>\n<text text-anchor=\"start\" x=\"74\" y=\"-141.8\" font-family=\"Helvetica,sans-Serif\" font-size=\"14.00\" fill=\"#000000\">samples = 2</text>\n<text text-anchor=\"start\" x=\"72\" y=\"-126.8\" font-family=\"Helvetica,sans-Serif\" font-size=\"14.00\" fill=\"#000000\">value = [1, 1]</text>\n<text text-anchor=\"start\" x=\"70\" y=\"-111.8\" font-family=\"Helvetica,sans-Serif\" font-size=\"14.00\" fill=\"#000000\">class = ALTO</text>\n</g>\n<!-- 4&#45;&gt;5 -->\n<g id=\"edge5\" class=\"edge\">\n<title>4&#45;&gt;5</title>\n<path fill=\"none\" stroke=\"#000000\" d=\"M153.8154,-222.8796C149.3577,-214.3236 144.6166,-205.2238 140.0106,-196.3833\"/>\n<polygon fill=\"#000000\" stroke=\"#000000\" points=\"143.0017,-194.5494 135.2771,-187.2981 136.7938,-197.7838 143.0017,-194.5494\"/>\n</g>\n<!-- 8 -->\n<g id=\"node9\" class=\"node\">\n<title>8</title>\n<path fill=\"#399de5\" stroke=\"#000000\" d=\"M281.5,-179.5C281.5,-179.5 195.5,-179.5 195.5,-179.5 189.5,-179.5 183.5,-173.5 183.5,-167.5 183.5,-167.5 183.5,-123.5 183.5,-123.5 183.5,-117.5 189.5,-111.5 195.5,-111.5 195.5,-111.5 281.5,-111.5 281.5,-111.5 287.5,-111.5 293.5,-117.5 293.5,-123.5 293.5,-123.5 293.5,-167.5 293.5,-167.5 293.5,-173.5 287.5,-179.5 281.5,-179.5\"/>\n<text text-anchor=\"start\" x=\"209\" y=\"-164.3\" font-family=\"Helvetica,sans-Serif\" font-size=\"14.00\" fill=\"#000000\">gini = 0.0</text>\n<text text-anchor=\"start\" x=\"199\" y=\"-149.3\" font-family=\"Helvetica,sans-Serif\" font-size=\"14.00\" fill=\"#000000\">samples = 8</text>\n<text text-anchor=\"start\" x=\"197\" y=\"-134.3\" font-family=\"Helvetica,sans-Serif\" font-size=\"14.00\" fill=\"#000000\">value = [0, 8]</text>\n<text text-anchor=\"start\" x=\"191.5\" y=\"-119.3\" font-family=\"Helvetica,sans-Serif\" font-size=\"14.00\" fill=\"#000000\">class = BAIXO</text>\n</g>\n<!-- 4&#45;&gt;8 -->\n<g id=\"edge8\" class=\"edge\">\n<title>4&#45;&gt;8</title>\n<path fill=\"none\" stroke=\"#000000\" d=\"M197.5343,-222.8796C203.3558,-211.8835 209.6527,-199.9893 215.5227,-188.9015\"/>\n<polygon fill=\"#000000\" stroke=\"#000000\" points=\"218.7476,-190.2905 220.3333,-179.8149 212.5611,-187.0152 218.7476,-190.2905\"/>\n</g>\n<!-- 6 -->\n<g id=\"node7\" class=\"node\">\n<title>6</title>\n<path fill=\"#e58139\" stroke=\"#000000\" d=\"M91,-68C91,-68 12,-68 12,-68 6,-68 0,-62 0,-56 0,-56 0,-12 0,-12 0,-6 6,0 12,0 12,0 91,0 91,0 97,0 103,-6 103,-12 103,-12 103,-56 103,-56 103,-62 97,-68 91,-68\"/>\n<text text-anchor=\"start\" x=\"22\" y=\"-52.8\" font-family=\"Helvetica,sans-Serif\" font-size=\"14.00\" fill=\"#000000\">gini = 0.0</text>\n<text text-anchor=\"start\" x=\"12\" y=\"-37.8\" font-family=\"Helvetica,sans-Serif\" font-size=\"14.00\" fill=\"#000000\">samples = 1</text>\n<text text-anchor=\"start\" x=\"10\" y=\"-22.8\" font-family=\"Helvetica,sans-Serif\" font-size=\"14.00\" fill=\"#000000\">value = [1, 0]</text>\n<text text-anchor=\"start\" x=\"8\" y=\"-7.8\" font-family=\"Helvetica,sans-Serif\" font-size=\"14.00\" fill=\"#000000\">class = ALTO</text>\n</g>\n<!-- 5&#45;&gt;6 -->\n<g id=\"edge6\" class=\"edge\">\n<title>5&#45;&gt;6</title>\n<path fill=\"none\" stroke=\"#000000\" d=\"M90.4135,-103.9815C85.5585,-95.2504 80.426,-86.0202 75.5371,-77.2281\"/>\n<polygon fill=\"#000000\" stroke=\"#000000\" points=\"78.4712,-75.3025 70.5524,-68.2637 72.3533,-78.7043 78.4712,-75.3025\"/>\n</g>\n<!-- 7 -->\n<g id=\"node8\" class=\"node\">\n<title>7</title>\n<path fill=\"#399de5\" stroke=\"#000000\" d=\"M219.5,-68C219.5,-68 133.5,-68 133.5,-68 127.5,-68 121.5,-62 121.5,-56 121.5,-56 121.5,-12 121.5,-12 121.5,-6 127.5,0 133.5,0 133.5,0 219.5,0 219.5,0 225.5,0 231.5,-6 231.5,-12 231.5,-12 231.5,-56 231.5,-56 231.5,-62 225.5,-68 219.5,-68\"/>\n<text text-anchor=\"start\" x=\"147\" y=\"-52.8\" font-family=\"Helvetica,sans-Serif\" font-size=\"14.00\" fill=\"#000000\">gini = 0.0</text>\n<text text-anchor=\"start\" x=\"137\" y=\"-37.8\" font-family=\"Helvetica,sans-Serif\" font-size=\"14.00\" fill=\"#000000\">samples = 1</text>\n<text text-anchor=\"start\" x=\"135\" y=\"-22.8\" font-family=\"Helvetica,sans-Serif\" font-size=\"14.00\" fill=\"#000000\">value = [0, 1]</text>\n<text text-anchor=\"start\" x=\"129.5\" y=\"-7.8\" font-family=\"Helvetica,sans-Serif\" font-size=\"14.00\" fill=\"#000000\">class = BAIXO</text>\n</g>\n<!-- 5&#45;&gt;7 -->\n<g id=\"edge7\" class=\"edge\">\n<title>5&#45;&gt;7</title>\n<path fill=\"none\" stroke=\"#000000\" d=\"M136.9589,-103.9815C141.8922,-95.2504 147.1074,-86.0202 152.0752,-77.2281\"/>\n<polygon fill=\"#000000\" stroke=\"#000000\" points=\"155.2681,-78.6918 157.1403,-68.2637 149.1737,-75.2483 155.2681,-78.6918\"/>\n</g>\n<!-- 11 -->\n<g id=\"node12\" class=\"node\">\n<title>11</title>\n<path fill=\"#399de5\" stroke=\"#000000\" d=\"M521.5,-298.5C521.5,-298.5 435.5,-298.5 435.5,-298.5 429.5,-298.5 423.5,-292.5 423.5,-286.5 423.5,-286.5 423.5,-242.5 423.5,-242.5 423.5,-236.5 429.5,-230.5 435.5,-230.5 435.5,-230.5 521.5,-230.5 521.5,-230.5 527.5,-230.5 533.5,-236.5 533.5,-242.5 533.5,-242.5 533.5,-286.5 533.5,-286.5 533.5,-292.5 527.5,-298.5 521.5,-298.5\"/>\n<text text-anchor=\"start\" x=\"449\" y=\"-283.3\" font-family=\"Helvetica,sans-Serif\" font-size=\"14.00\" fill=\"#000000\">gini = 0.0</text>\n<text text-anchor=\"start\" x=\"439\" y=\"-268.3\" font-family=\"Helvetica,sans-Serif\" font-size=\"14.00\" fill=\"#000000\">samples = 2</text>\n<text text-anchor=\"start\" x=\"437\" y=\"-253.3\" font-family=\"Helvetica,sans-Serif\" font-size=\"14.00\" fill=\"#000000\">value = [0, 2]</text>\n<text text-anchor=\"start\" x=\"431.5\" y=\"-238.3\" font-family=\"Helvetica,sans-Serif\" font-size=\"14.00\" fill=\"#000000\">class = BAIXO</text>\n</g>\n<!-- 10&#45;&gt;11 -->\n<g id=\"edge11\" class=\"edge\">\n<title>10&#45;&gt;11</title>\n<path fill=\"none\" stroke=\"#000000\" d=\"M486.303,-341.8796C485.2274,-331.2134 484.0666,-319.7021 482.9775,-308.9015\"/>\n<polygon fill=\"#000000\" stroke=\"#000000\" points=\"486.4461,-308.4133 481.9603,-298.8149 479.4814,-309.1157 486.4461,-308.4133\"/>\n</g>\n<!-- 12 -->\n<g id=\"node13\" class=\"node\">\n<title>12</title>\n<path fill=\"#e58139\" stroke=\"#000000\" d=\"M643,-298.5C643,-298.5 564,-298.5 564,-298.5 558,-298.5 552,-292.5 552,-286.5 552,-286.5 552,-242.5 552,-242.5 552,-236.5 558,-230.5 564,-230.5 564,-230.5 643,-230.5 643,-230.5 649,-230.5 655,-236.5 655,-242.5 655,-242.5 655,-286.5 655,-286.5 655,-292.5 649,-298.5 643,-298.5\"/>\n<text text-anchor=\"start\" x=\"574\" y=\"-283.3\" font-family=\"Helvetica,sans-Serif\" font-size=\"14.00\" fill=\"#000000\">gini = 0.0</text>\n<text text-anchor=\"start\" x=\"564\" y=\"-268.3\" font-family=\"Helvetica,sans-Serif\" font-size=\"14.00\" fill=\"#000000\">samples = 7</text>\n<text text-anchor=\"start\" x=\"562\" y=\"-253.3\" font-family=\"Helvetica,sans-Serif\" font-size=\"14.00\" fill=\"#000000\">value = [7, 0]</text>\n<text text-anchor=\"start\" x=\"560\" y=\"-238.3\" font-family=\"Helvetica,sans-Serif\" font-size=\"14.00\" fill=\"#000000\">class = ALTO</text>\n</g>\n<!-- 10&#45;&gt;12 -->\n<g id=\"edge12\" class=\"edge\">\n<title>10&#45;&gt;12</title>\n<path fill=\"none\" stroke=\"#000000\" d=\"M530.0219,-341.8796C540.9857,-330.3337 552.8897,-317.7976 563.8601,-306.2446\"/>\n<polygon fill=\"#000000\" stroke=\"#000000\" points=\"566.5673,-308.4766 570.9152,-298.8149 561.4913,-303.6564 566.5673,-308.4766\"/>\n</g>\n</g>\n</svg>\n"
          },
          "metadata": {},
          "execution_count": 9
        }
      ]
    },
    {
      "cell_type": "markdown",
      "metadata": {
        "id": "JYstJWt-0GNr"
      },
      "source": [
        "Aplicar os métodos estudados no conjunto de dados anexados a esta tarefa.\n",
        "Comparar os resultados (matriz confusão, recall, precision, acurácia) para os dois métodos.\n",
        "Entregar os notebooks usados com comentários sobre os resultados.\n",
        "\n",
        "R: A matriz de confusão abaixo nos mostra que a sua precisão de acertos foi quase 90%, sendo ela 88% para alto e 82% para baixo, em média sua acurácia ficou em 86%. O seu recall é o dado mais alto, sendo ele 0.88 para os altos e 0.82 para os baixos.\n",
        "Métricas\n",
        "              precision    recall  f1-score   support\n",
        "\n",
        "        ALTO       0.88      0.88      0.88        17\n",
        "       BAIXO       0.82      0.82      0.82        11\n",
        "\n",
        "    accuracy                           0.86        28\n",
        "   macro avg       0.85      0.85      0.85        28\n",
        "weighted avg       0.86      0.86      0.86        28"
      ]
    },
    {
      "cell_type": "markdown",
      "metadata": {
        "id": "nyP0w3mN0ORz"
      },
      "source": [
        ""
      ]
    }
  ]
}